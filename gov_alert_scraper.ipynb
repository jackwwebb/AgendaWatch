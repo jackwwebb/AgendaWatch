{
 "cells": [
  {
   "cell_type": "markdown",
   "metadata": {},
   "source": [
    "To do:\n",
    "* Change scraping to be off what's new page not RSS feed - doesn't seem to be working for e.g. Greenwich. Get date off the same page, as well as folder title\n",
    "* Get meeting title from scraping meeting page - DONE\n",
    "* Include support for docs as well as pdf - DONE\n",
    "* Gather all text for one council for each week - DONE\n",
    "* text has a lot of \\n in it, which can stop multi-word searches - can replace these (but test to see how it works first (does it think it's text or special characters?), and test to see if replacement is needed to search in python or if it doesn't actually matter - find an example phrase e.g. 'a questionnaire was \\n \\napproved')\n",
    "* move extracted folder to still be in 'files' folder for github purposes - DONE I THINK\n",
    "* Delete all pdfs and docxs to save space\n",
    "* Do general tidy up and commenting\n",
    "* Turn into one python file that defines and runs extract_council_text, so then can have another file that checks for each person in DB and creates email\n",
    "* Have list of all councils, but only get PDFs for ones that people have signed up for (i.e. check database first)\n",
    "* at end, do file that archives all text files by grouping them into a dated folder in an archive folder in dropbox\n",
    "* why does it sometimes stop loading? Is there scraping protection?\n"
   ]
  },
  {
   "cell_type": "markdown",
   "metadata": {},
   "source": [
    "Notes on first runthrough:\n",
    "* seems to work (yay)\n",
    "* but len(output) is only 42 - for example output[40] has multiple in it\n",
    "* think it has a separate item in the list for the text, pdf and docx. This would mean there are 42/13 = 14 meetings - correct\n",
    "* solved by changing extract_text to be extend not append"
   ]
  },
  {
   "cell_type": "markdown",
   "metadata": {},
   "source": [
    "Email sample:\n",
    "\n",
    "----------------\n",
    "\n",
    "Hi Jack,\n",
    "\n",
    "You have alerts this week from AgendaWatch.\n",
    "\n",
    "**Keyword: \"Homeless\"**\n",
    "\n",
    "Council: Islington\n",
    "       * Name [linked], date\n",
    "            ** Keyword found in the following places: Page text, PDF: 'Agenda', PDF: 'Meeting Notes'\n",
    "            \n",
    "       * Name2 [Linked], date\n",
    "            ** Keyword found in the following places: PDF: 'Agenda'\n"
   ]
  },
  {
   "cell_type": "code",
   "execution_count": 1,
   "metadata": {
    "collapsed": true
   },
   "outputs": [],
   "source": [
    "import pandas as pd\n",
    "import PyPDF2\n",
    "from bs4 import BeautifulSoup\n",
    "import urllib\n",
    "import requests\n",
    "import re\n",
    "import simplejson\n",
    "import os\n",
    "import shutil\n",
    "import random\n",
    "import docx2txt"
   ]
  },
  {
   "cell_type": "code",
   "execution_count": 18,
   "metadata": {
    "collapsed": true
   },
   "outputs": [],
   "source": [
    "# get list of councils with name and url of RSS feed\n",
    "# for now just take one as an example\n",
    "\n",
    "council_name = 'Chester'\n",
    "council_url = 'http://cmttpublic.cheshirewestandchester.gov.uk/mgWhatsNew.aspx?bcr=1'"
   ]
  },
  {
   "cell_type": "code",
   "execution_count": 3,
   "metadata": {
    "collapsed": true
   },
   "outputs": [],
   "source": [
    "def get_meetings(soup, base_url):\n",
    "    doclist = soup.find('ul', 'mgDateList')\n",
    "    meeting_list = []\n",
    "    \n",
    "    for li in doclist.find_all('li'):\n",
    "        date = li.find('span').text\n",
    "        href = li.find('a')\n",
    "        url = base_url + href.get('href')\n",
    "        title = href.text\n",
    "        short_title = title[title.rfind(\",\")+2:]\n",
    "        meeting_list.append([date, short_title, url_replace(base_url,li), url])\n",
    "        \n",
    "    return meeting_list"
   ]
  },
  {
   "cell_type": "code",
   "execution_count": 4,
   "metadata": {
    "collapsed": true
   },
   "outputs": [],
   "source": [
    "def url_replace(base_url, li):\n",
    "    href = li.find('a')\n",
    "    new_url = base_url + href.get('href')\n",
    "    replacer = 'href = ' + new_url + '\"'\n",
    "    replaced = re.compile('href.*\"')\n",
    "    return re.sub(replaced, replacer, str(li))"
   ]
  },
  {
   "cell_type": "code",
   "execution_count": 5,
   "metadata": {
    "collapsed": true
   },
   "outputs": [],
   "source": [
    "escapes = [chr(char) for char in range(1, 32)]\n",
    "def tidy2(s):\n",
    "    for e in escapes:\n",
    "        if e in s:\n",
    "            s = s.replace(e,\"\")\n",
    "    return s"
   ]
  },
  {
   "cell_type": "code",
   "execution_count": 6,
   "metadata": {
    "collapsed": true
   },
   "outputs": [],
   "source": [
    "def get_link(item):\n",
    "    # gets link from bs4 item, as bs4 doesn't seem to be working\n",
    "    item = str(item)\n",
    "    link_start = item.find('<link/>')+len('<link/>')\n",
    "    item_short = item[link_start:]\n",
    "    link = item_short[:item_short.find('\\r')]\n",
    "    return link"
   ]
  },
  {
   "cell_type": "code",
   "execution_count": 7,
   "metadata": {
    "collapsed": true
   },
   "outputs": [],
   "source": [
    "escapes = [chr(char) for char in range(1, 32)]\n",
    "def tidy(s):\n",
    "    for e in escapes:\n",
    "        if e in s:\n",
    "            s = s[:s.find(e)]\n",
    "    return s"
   ]
  },
  {
   "cell_type": "code",
   "execution_count": 8,
   "metadata": {
    "collapsed": true
   },
   "outputs": [],
   "source": [
    "def get_urls_old(soup):\n",
    "    item_all = soup.find_all('item')\n",
    "    url_list = []\n",
    "    for item in item_all:\n",
    "        url_list.append([item.find('title').text, get_link(item)])\n",
    "    return url_list"
   ]
  },
  {
   "cell_type": "code",
   "execution_count": 9,
   "metadata": {
    "collapsed": true
   },
   "outputs": [],
   "source": [
    "def directory(base, path):\n",
    "    directory = base + path\n",
    "    if os.path.exists(directory):\n",
    "        while os.path.exists(directory):\n",
    "            path = path + str(random.randint(1,100))\n",
    "            directory = base + path\n",
    "        os.makedirs(directory)\n",
    "    else:\n",
    "        os.makedirs(directory)\n",
    "    return directory + '/', path"
   ]
  },
  {
   "cell_type": "code",
   "execution_count": 10,
   "metadata": {
    "collapsed": true
   },
   "outputs": [],
   "source": [
    "def meeting_scrape(url):\n",
    "    # get correct part of page\n",
    "    url_get = requests.get(url)\n",
    "    item_soup = BeautifulSoup(url_get.content, 'lxml')\n",
    "    modgov = item_soup.find('div', id = 'modgov')\n",
    "    item_text = modgov.text\n",
    "\n",
    "    pdf_link_list = modgov.find_all(href = re.compile(\".pdf\"))\n",
    "    pdf_list = []\n",
    "    for link in pdf_link_list:\n",
    "        pdf_title = tidy(link.text).replace('/','-').replace(':','-')[:100].rstrip() + '.pdf'\n",
    "        pdf_list.append([link['href'],pdf_title])\n",
    "        \n",
    "    doc_link_list = modgov.find_all(href = re.compile(\".docx\"))\n",
    "    doc_list = []\n",
    "    for link in doc_link_list:\n",
    "        doc_title = tidy(link.text).replace('/','-').replace(':','-')[:100].rstrip() + '.docx'\n",
    "        doc_list.append([link['href'],doc_title])\n",
    "\n",
    "    return item_text, pdf_list, doc_list"
   ]
  },
  {
   "cell_type": "code",
   "execution_count": 11,
   "metadata": {
    "collapsed": true
   },
   "outputs": [],
   "source": [
    "def download_file(file_list, base_url, meeting_dir):\n",
    "    # download pdfs from list\n",
    "    for file_url, file_title in file_list:\n",
    "        full_file_url = base_url + file_url\n",
    "        response = requests.get(full_file_url)\n",
    "        with open(meeting_dir + file_title, 'wb') as f:\n",
    "            f.write(response.content)\n",
    "            print ('Added: ' + file_title)"
   ]
  },
  {
   "cell_type": "code",
   "execution_count": 12,
   "metadata": {
    "collapsed": true,
    "scrolled": false
   },
   "outputs": [],
   "source": [
    "def extract_pdf (pdf_list, directory, meeting_title, date):\n",
    "    \n",
    "    all_text = []\n",
    "    \n",
    "    for url, pdf_title in pdf_list:\n",
    "        pdfFileObj = open(directory + pdf_title, 'rb') \n",
    "\n",
    "        pdfReader = PyPDF2.PdfFileReader(pdfFileObj)\n",
    "\n",
    "        length = pdfReader.numPages\n",
    "\n",
    "        pdf_text = ''\n",
    "\n",
    "        for i in range(0,length): \n",
    "            pageObj = pdfReader.getPage(i)\n",
    "            page_text = pageObj.extractText()\n",
    "            pdf_text = pdf_text + ' ' + page_text\n",
    "\n",
    "        all_text.append([meeting_title, date, pdf_title, pdf_text])\n",
    "\n",
    "        pdfFileObj.close()\n",
    "    \n",
    "    return all_text"
   ]
  },
  {
   "cell_type": "code",
   "execution_count": 13,
   "metadata": {
    "collapsed": true
   },
   "outputs": [],
   "source": [
    "def extract_docx(docx_list, directory, meeting_title, date):\n",
    "    \n",
    "    all_text = []\n",
    "    \n",
    "    for url, docx_title in docx_list:\n",
    "        docx_text = docx2txt.process(directory + docx_title)\n",
    "        all_text.append([meeting_title, date, docx_title, docx_text])\n",
    "    \n",
    "    return all_text"
   ]
  },
  {
   "cell_type": "code",
   "execution_count": 34,
   "metadata": {
    "collapsed": true
   },
   "outputs": [],
   "source": [
    "def extract_file(pdf_list, docx_list, item_text, directory, folder, meeting_title, date):\n",
    "    print('Extracting text for: ' + folder)\n",
    "    \n",
    "    txt_list = [[meeting_title, date,'page text', item_text]]\n",
    "    \n",
    "    txt_list.extend(extract_pdf(pdf_list, directory, meeting_title, date))\n",
    "    \n",
    "    txt_list.extend(extract_docx(docx_list, directory, meeting_title, date))\n",
    "    \n",
    "    f = open(directory + 'text.txt', 'w')\n",
    "    simplejson.dump(txt_list, f)\n",
    "    f.close()\n",
    "    print ('Extracted text for: ' + folder)\n",
    "    "
   ]
  },
  {
   "cell_type": "code",
   "execution_count": 39,
   "metadata": {
    "collapsed": true
   },
   "outputs": [],
   "source": [
    "def combine_text(council_name, meeting_dir_list):\n",
    "    base = 'C:/Users/Jack/Documents/Software and Programming/Gov Alert/Files/'\n",
    "    files = [base + location+'/text.txt' for location in meeting_dir_list]\n",
    "    with open(council_name +'.txt','w') as of:\n",
    "        output = []\n",
    "        for f in files:\n",
    "            with open(f,'r') as fc:\n",
    "                output.extend(simplejson.load(fc))\n",
    "        simplejson.dump(output, of)"
   ]
  },
  {
   "cell_type": "code",
   "execution_count": 16,
   "metadata": {
    "collapsed": true
   },
   "outputs": [],
   "source": [
    "def extract_council_text(council_name, council_url):\n",
    "    \n",
    "    base_url = council_url[:council_url.find('.gov.uk/')+8]\n",
    "    \n",
    "    # get list of urls from the latest week\n",
    "    url_get = requests.get(council_url)\n",
    "    soup = BeautifulSoup(url_get.content, 'lxml')\n",
    "    meetings = get_meetings(soup, base_url)\n",
    "    \n",
    "    base_dir, council_folder = directory('C:/Users/Jack/Documents/Software and Programming/Gov Alert/Files/', council_name)\n",
    "    print('Folder created: ' + council_folder)\n",
    "    \n",
    "    meeting_dir_list = []\n",
    "    \n",
    "    # get text file for each meeting\n",
    "    for meeting in meetings:\n",
    "        # create folder\n",
    "        folder = meeting[1][:40].replace('/','-').replace(':','-').rstrip()\n",
    "        meeting_dir, folder = directory(base_dir, folder)\n",
    "        meeting_dir_list.append(meeting_dir)\n",
    "        print('Folder created: ' + folder)\n",
    "        \n",
    "        # to be updated with better scraping\n",
    "        meeting_title = meeting[1]\n",
    "        date = meeting[0]\n",
    "        \n",
    "        # scrape page\n",
    "        item_text, pdf_list, docx_list = meeting_scrape(meeting[3])\n",
    "        \n",
    "        # download all documents\n",
    "        download_file(pdf_list + docx_list, base_url, meeting_dir)\n",
    "        \n",
    "        # extract text from all files\n",
    "        extract_file(pdf_list, docx_list, item_text, meeting_dir, folder, meeting_title, date)\n",
    "    \n",
    "    # gather all text into one folder\n",
    "    combine_text(council_name, meeting_dir_list)\n",
    "    \n",
    "    # delete all unnecessary files\n",
    "    "
   ]
  },
  {
   "cell_type": "code",
   "execution_count": 19,
   "metadata": {},
   "outputs": [
    {
     "name": "stdout",
     "output_type": "stream",
     "text": [
      "Folder created: Chester\n",
      "Folder created: Licensing Committee\n",
      "Added: Agenda frontsheet.pdf\n",
      "Added: Agenda reports pack.pdf\n",
      "Added: Minutes  PDF 105 KB.pdf\n",
      "Added: Temporary Event Notices DOCX 40 KB.docx\n",
      "Added: Review of the Council's Statement of Licensing Policy DOCX 38 KB.docx\n",
      "Added: App 1 LA03 Policy 2019 , item 6..docx\n",
      "Added: App 2 LA03 Policy 2019 , item 6..docx\n",
      "Extracting text for: Licensing Committee\n",
      "Extracted text for: Licensing Committee\n",
      "Folder created: Cheshire West and Chester Overview and S\n",
      "Added: Agenda frontsheet.pdf\n",
      "Added: Agenda reports pack.pdf\n",
      "Added: Minutes  PDF 77 KB.pdf\n",
      "Added: Cheshire West & Chester Overview & Scrutiny Committee Work Programme 2018-19  PDF 245 KB.pdf\n",
      "Extracting text for: Cheshire West and Chester Overview and S\n",
      "Extracted text for: Cheshire West and Chester Overview and S\n",
      "Folder created: Health and Wellbeing Board\n",
      "Added: Agenda frontsheet.pdf\n",
      "Added: Additional Document - Focus on our Care Communities Presentation Slides  PDF 2 MB.pdf\n",
      "Added: Minutes  PDF 81 KB.pdf\n",
      "Added: Focus on our Care Communities  PDF 2 MB.pdf\n",
      "Added: Eat Well, Be Active Update  PDF 389 KB.pdf\n",
      "Added: Review of the Better Care Fund  PDF 604 KB.pdf\n",
      "Added: The Community Safety Partnership - An Overview  PDF 450 KB.pdf\n",
      "Added: Seasonal Influenza Update and Winter Campaign  PDF 569 KB.pdf\n",
      "Added: Children's Trust Update  PDF 358 KB.pdf\n",
      "Added: Draft Agenda for the October Health and Wellbeing Board Meeting  PDF 81 KB.pdf\n",
      "Extracting text for: Health and Wellbeing Board\n",
      "Extracted text for: Health and Wellbeing Board\n",
      "Folder created: Cabinet\n",
      "Added: Agenda frontsheet.pdf\n",
      "Added: Agenda reports pack.pdf\n",
      "Added: Printed minutes.pdf\n",
      "Added: Minutes  PDF 69 KB.pdf\n",
      "Added: Appendix A PSPO SEALED ORDER , item 21..pdf\n",
      "Added: Revised Equality and Diversity Policy  PDF 98 KB.pdf\n",
      "Added: Proposed Public Spaces Protection Order - Dog Control  PDF 147 KB.pdf\n",
      "Added: Appendix 1 Cabinet Report PSPO Draft Order on Dog Control Schedule 1 Restricted Area , item 25..pdf\n",
      "Added: Appendix 2 Cabinet Report PSPO Draft Order on Smoking in Enclosed Children's Play Areas Schedule 1 R.pdf\n",
      "Added: Appendix 3 Consultation Report on Dog Control PSPO , item 25..pdf\n",
      "Added: Highways Safety Inspection Policy and Code of Practice – October 2018  PDF 98 KB.pdf\n",
      "Added: Appendix A - Highway Safety Inspection Policy - October 2018 , item 26..pdf\n",
      "Added: Appendix B  - Highway Safety Inspection Code of Practice , item 26..pdf\n",
      "Added: Low Emission Strategy  PDF 124 KB.pdf\n",
      "Added: Appendix 2 Low Emission Strategy Consultation Key Findings , item 27..pdf\n",
      "Added: National Grid - Warm Homes Fund  PDF 82 KB.pdf\n",
      "Added: Recommissioning of Sexual Health Service  PDF 86 KB.pdf\n",
      "Added: First Review of Financial Performance 2018-19  PDF 141 KB.pdf\n",
      "Added: Appendix 1-3 , item 31..pdf\n",
      "Added: Medium Term Financial Strategy 2019-20 to 2021-22  PDF 152 KB.pdf\n",
      "Added: Appendix A , item 32..pdf\n",
      "Added: Review of Chester City Public Space Protection Order (PSPO) made under ASB Crime & Policing Act 2014.docx\n",
      "Added: Sub-Regional European Social Fund (ESF) bid to develop a new service for unemployed people in the re.docx\n",
      "Added: Appendix 1 to Sub Regional ESF Bid Cabinet Report , item 22..docx\n",
      "Added: Cheshire West and Chester Policy Commission- Planning for a Post-Brexit Future DOCX 39 KB.docx\n",
      "Added: Draft Equality and Diversity Policy revised 16 August , item 24..docx\n",
      "Added: Appendix 1 - Cabinet Report PSPO Draft Order on Dog Control , item 25..docx\n",
      "Added: Appendix 2 Cabinet Paper Draft Order on Smoking in Enclosed Children's Play Areas , item 25..docx\n",
      "Added: Appendix 1 Low Emission Strategy , item 27..docx\n",
      "Added: Appendix 3 Low Emission Strategy Consultation and Options Report , item 27..docx\n",
      "Added: Appendix 4 Low Emission Strategy - initiatives , item 27..docx\n",
      "Added: Council Plan Performance Report (2018-19) - Quarter One Exception Report DOCX 286 KB.docx\n",
      "Added: Castle Park - Business Plan 2018-19, Financial Year End Accounts 2017-18 and Lettings Policy DOCX 29.docx\n",
      "Added: Appendix A - CPT Business Plan 18-19 , item 33..docx\n",
      "Added: Appendix B - Castle Park Financial Statements 2017-18 , item 33..docx\n",
      "Added: Appendix C - Castle Park Lettings Policy , item 33..docx\n",
      "Extracting text for: Cabinet\n",
      "Extracted text for: Cabinet\n",
      "Folder created: City of Chester Charter Trustees\n",
      "Added: Agenda frontsheet.pdf\n",
      "Added: Agenda reports pack.pdf\n",
      "Added: Minutes  PDF 58 KB.pdf\n",
      "Extracting text for: City of Chester Charter Trustees\n",
      "Extracted text for: City of Chester Charter Trustees\n",
      "Folder created: Places Overview and Scrutiny Committee\n",
      "Added: Agenda frontsheet.pdf\n",
      "Added: Agenda reports pack.pdf\n",
      "Added: Minutes  PDF 61 KB.pdf\n",
      "Added: Management of the Night-time Economy from Licensing a Perspective - Task Group Final Report  PDF 419.pdf\n",
      "Added: Scrutiny of the Community Safety Partnership  PDF 237 KB.pdf\n",
      "Added: 20 MPH Speed Limit Programme Update  PDF 901 KB.pdf\n",
      "Added: Appendix A 20 mph Speed Limit Programme , item 8..pdf\n",
      "Added: Places Overview and Scrutiny Committee Work Programme 2018-19 DOCX 27 KB.docx\n",
      "Extracting text for: Places Overview and Scrutiny Committee\n",
      "Extracted text for: Places Overview and Scrutiny Committee\n",
      "Folder created: People Overview and Scrutiny Committee\n",
      "Added: Agenda frontsheet.pdf\n",
      "Added: Additional Document - Annual Review  PDF 4 MB.pdf\n",
      "Added: Additional Document - Winter Preparedness Presentation - Vale Royal CCG  PDF 755 KB.pdf\n",
      "Added: Additional Document - West Cheshire CCG Presentation Slides  PDF 633 KB.pdf\n",
      "Added: Minutes  PDF 75 KB.pdf\n",
      "Added: Winter Plans Update  PDF 572 KB.pdf\n",
      "Added: OSC presentation re surge and resilience planning V2pdf , item 6..pdf\n",
      "Added: Vale Royal CCG Financial Recovery Plan Update  PDF 4 MB.pdf\n",
      "Added: Review of Disabled Children's Services  PDF 330 KB.pdf\n",
      "Added: Council's Safeguarding Duties- Recommendation 41 Visits  PDF 163 KB.pdf\n",
      "Added: Rec 41 Childrens Dis Team July 2018 Cllr Armstrong , item 9..pdf\n",
      "Added: Rec 41 Visit - Aug 2018 Cllr Tonge , item 9..pdf\n",
      "Added: Rec 41  2018 Cllr M Parker , item 9..pdf\n",
      "Added: Rec 41 Visit - Aug 2018 Cllr Houlbrook , item 9..pdf\n",
      "Added: Information Only Items  PDF 263 KB.pdf\n",
      "Added: People Overview and Scrutiny Committee Work Programme 2018-19  PDF 389 KB.pdf\n",
      "Extracting text for: People Overview and Scrutiny Committee\n"
     ]
    },
    {
     "name": "stderr",
     "output_type": "stream",
     "text": [
      "PdfReadWarning: Xref table not zero-indexed. ID numbers for objects will be corrected. [pdf.py:1736]\n"
     ]
    },
    {
     "name": "stdout",
     "output_type": "stream",
     "text": [
      "Extracted text for: People Overview and Scrutiny Committee\n",
      "Folder created: People Overview and Scrutiny Committee82\n",
      "Added: Agenda frontsheet.pdf\n",
      "Added: Additional Document - Annual Review  PDF 4 MB.pdf\n",
      "Added: Additional Document - Winter Preparedness Presentation - Vale Royal CCG  PDF 755 KB.pdf\n",
      "Added: Additional Document - West Cheshire CCG Presentation Slides  PDF 633 KB.pdf\n",
      "Added: Minutes  PDF 75 KB.pdf\n",
      "Added: Winter Plans Update  PDF 572 KB.pdf\n",
      "Added: OSC presentation re surge and resilience planning V2pdf , item 6..pdf\n",
      "Added: Vale Royal CCG Financial Recovery Plan Update  PDF 4 MB.pdf\n",
      "Added: Review of Disabled Children's Services  PDF 330 KB.pdf\n",
      "Added: Council's Safeguarding Duties- Recommendation 41 Visits  PDF 163 KB.pdf\n",
      "Added: Rec 41 Childrens Dis Team July 2018 Cllr Armstrong , item 9..pdf\n",
      "Added: Rec 41 Visit - Aug 2018 Cllr Tonge , item 9..pdf\n",
      "Added: Rec 41  2018 Cllr M Parker , item 9..pdf\n",
      "Added: Rec 41 Visit - Aug 2018 Cllr Houlbrook , item 9..pdf\n",
      "Added: Information Only Items  PDF 263 KB.pdf\n",
      "Added: People Overview and Scrutiny Committee Work Programme 2018-19  PDF 389 KB.pdf\n",
      "Extracting text for: People Overview and Scrutiny Committee82\n",
      "Extracted text for: People Overview and Scrutiny Committee82\n",
      "Folder created: People Overview and Scrutiny Committee7\n",
      "Added: Agenda frontsheet.pdf\n",
      "Added: Additional Document - Annual Review  PDF 4 MB.pdf\n",
      "Added: Additional Document - Winter Preparedness Presentation - Vale Royal CCG  PDF 755 KB.pdf\n",
      "Added: Additional Document - West Cheshire CCG Presentation Slides  PDF 633 KB.pdf\n",
      "Added: Minutes  PDF 75 KB.pdf\n",
      "Added: Winter Plans Update  PDF 572 KB.pdf\n",
      "Added: OSC presentation re surge and resilience planning V2pdf , item 6..pdf\n",
      "Added: Vale Royal CCG Financial Recovery Plan Update  PDF 4 MB.pdf\n",
      "Added: Review of Disabled Children's Services  PDF 330 KB.pdf\n",
      "Added: Council's Safeguarding Duties- Recommendation 41 Visits  PDF 163 KB.pdf\n",
      "Added: Rec 41 Childrens Dis Team July 2018 Cllr Armstrong , item 9..pdf\n",
      "Added: Rec 41 Visit - Aug 2018 Cllr Tonge , item 9..pdf\n",
      "Added: Rec 41  2018 Cllr M Parker , item 9..pdf\n",
      "Added: Rec 41 Visit - Aug 2018 Cllr Houlbrook , item 9..pdf\n",
      "Added: Information Only Items  PDF 263 KB.pdf\n",
      "Added: People Overview and Scrutiny Committee Work Programme 2018-19  PDF 389 KB.pdf\n",
      "Extracting text for: People Overview and Scrutiny Committee7\n",
      "Extracted text for: People Overview and Scrutiny Committee7\n",
      "Folder created: Cabinet48\n",
      "Added: Agenda frontsheet.pdf\n",
      "Added: Agenda reports pack.pdf\n",
      "Added: Printed minutes.pdf\n",
      "Added: Minutes  PDF 69 KB.pdf\n",
      "Added: Appendix A PSPO SEALED ORDER , item 21..pdf\n",
      "Added: Revised Equality and Diversity Policy  PDF 98 KB.pdf\n",
      "Added: Proposed Public Spaces Protection Order - Dog Control  PDF 147 KB.pdf\n",
      "Added: Appendix 1 Cabinet Report PSPO Draft Order on Dog Control Schedule 1 Restricted Area , item 25..pdf\n",
      "Added: Appendix 2 Cabinet Report PSPO Draft Order on Smoking in Enclosed Children's Play Areas Schedule 1 R.pdf\n",
      "Added: Appendix 3 Consultation Report on Dog Control PSPO , item 25..pdf\n",
      "Added: Highways Safety Inspection Policy and Code of Practice – October 2018  PDF 98 KB.pdf\n",
      "Added: Appendix A - Highway Safety Inspection Policy - October 2018 , item 26..pdf\n",
      "Added: Appendix B  - Highway Safety Inspection Code of Practice , item 26..pdf\n",
      "Added: Low Emission Strategy  PDF 124 KB.pdf\n",
      "Added: Appendix 2 Low Emission Strategy Consultation Key Findings , item 27..pdf\n",
      "Added: National Grid - Warm Homes Fund  PDF 82 KB.pdf\n",
      "Added: Recommissioning of Sexual Health Service  PDF 86 KB.pdf\n",
      "Added: First Review of Financial Performance 2018-19  PDF 141 KB.pdf\n",
      "Added: Appendix 1-3 , item 31..pdf\n",
      "Added: Medium Term Financial Strategy 2019-20 to 2021-22  PDF 152 KB.pdf\n",
      "Added: Appendix A , item 32..pdf\n",
      "Added: Review of Chester City Public Space Protection Order (PSPO) made under ASB Crime & Policing Act 2014.docx\n",
      "Added: Sub-Regional European Social Fund (ESF) bid to develop a new service for unemployed people in the re.docx\n",
      "Added: Appendix 1 to Sub Regional ESF Bid Cabinet Report , item 22..docx\n",
      "Added: Cheshire West and Chester Policy Commission- Planning for a Post-Brexit Future DOCX 39 KB.docx\n",
      "Added: Draft Equality and Diversity Policy revised 16 August , item 24..docx\n",
      "Added: Appendix 1 - Cabinet Report PSPO Draft Order on Dog Control , item 25..docx\n",
      "Added: Appendix 2 Cabinet Paper Draft Order on Smoking in Enclosed Children's Play Areas , item 25..docx\n",
      "Added: Appendix 1 Low Emission Strategy , item 27..docx\n",
      "Added: Appendix 3 Low Emission Strategy Consultation and Options Report , item 27..docx\n",
      "Added: Appendix 4 Low Emission Strategy - initiatives , item 27..docx\n",
      "Added: Council Plan Performance Report (2018-19) - Quarter One Exception Report DOCX 286 KB.docx\n",
      "Added: Castle Park - Business Plan 2018-19, Financial Year End Accounts 2017-18 and Lettings Policy DOCX 29.docx\n",
      "Added: Appendix A - CPT Business Plan 18-19 , item 33..docx\n",
      "Added: Appendix B - Castle Park Financial Statements 2017-18 , item 33..docx\n",
      "Added: Appendix C - Castle Park Lettings Policy , item 33..docx\n",
      "Extracting text for: Cabinet48\n",
      "Extracted text for: Cabinet48\n",
      "Folder created: Audit and Governance Committee\n",
      "Added: Agenda frontsheet.pdf\n",
      "Added: Agenda reports pack.pdf\n",
      "Added: Minutes  PDF 62 KB.pdf\n",
      "Added: Minutes of the Pension Fund Committee  PDF 153 KB.pdf\n",
      "Added: Internal Audit- 2018-19 Audit Plan Progress  PDF 105 KB.pdf\n",
      "Added: Appendix 1 - 2017-18 CWaC- Annual Audit Letter-final , item 7..pdf\n",
      "Added: Treasury Management Mid-Year Update 2018-19  PDF 95 KB.pdf\n",
      "Added: Annual Health and Safety Report  PDF 82 KB.pdf\n",
      "Added: Health and Safety Annual Report 2018 , item 10..pdf\n",
      "Added: External Audit Report - Annual Audit Letter 2017-18 DOCX 49 KB.docx\n",
      "Added: Annual Standards Report DOCX 251 KB.docx\n",
      "Extracting text for: Audit and Governance Committee\n"
     ]
    },
    {
     "name": "stderr",
     "output_type": "stream",
     "text": [
      "PdfReadWarning: Superfluous whitespace found in object header b'1' b'0' [pdf.py:1666]\n",
      "PdfReadWarning: Superfluous whitespace found in object header b'2' b'0' [pdf.py:1666]\n",
      "PdfReadWarning: Superfluous whitespace found in object header b'3' b'0' [pdf.py:1666]\n",
      "PdfReadWarning: Superfluous whitespace found in object header b'32' b'0' [pdf.py:1666]\n",
      "PdfReadWarning: Superfluous whitespace found in object header b'44' b'0' [pdf.py:1666]\n",
      "PdfReadWarning: Superfluous whitespace found in object header b'55' b'0' [pdf.py:1666]\n",
      "PdfReadWarning: Superfluous whitespace found in object header b'66' b'0' [pdf.py:1666]\n",
      "PdfReadWarning: Superfluous whitespace found in object header b'69' b'0' [pdf.py:1666]\n",
      "PdfReadWarning: Superfluous whitespace found in object header b'72' b'0' [pdf.py:1666]\n",
      "PdfReadWarning: Superfluous whitespace found in object header b'75' b'0' [pdf.py:1666]\n",
      "PdfReadWarning: Superfluous whitespace found in object header b'86' b'0' [pdf.py:1666]\n",
      "PdfReadWarning: Superfluous whitespace found in object header b'89' b'0' [pdf.py:1666]\n",
      "PdfReadWarning: Superfluous whitespace found in object header b'92' b'0' [pdf.py:1666]\n",
      "PdfReadWarning: Superfluous whitespace found in object header b'95' b'0' [pdf.py:1666]\n",
      "PdfReadWarning: Superfluous whitespace found in object header b'98' b'0' [pdf.py:1666]\n",
      "PdfReadWarning: Superfluous whitespace found in object header b'109' b'0' [pdf.py:1666]\n",
      "PdfReadWarning: Superfluous whitespace found in object header b'112' b'0' [pdf.py:1666]\n",
      "PdfReadWarning: Superfluous whitespace found in object header b'142' b'0' [pdf.py:1666]\n",
      "PdfReadWarning: Superfluous whitespace found in object header b'145' b'0' [pdf.py:1666]\n",
      "PdfReadWarning: Superfluous whitespace found in object header b'30' b'0' [pdf.py:1666]\n",
      "PdfReadWarning: Superfluous whitespace found in object header b'42' b'0' [pdf.py:1666]\n",
      "PdfReadWarning: Superfluous whitespace found in object header b'53' b'0' [pdf.py:1666]\n",
      "PdfReadWarning: Superfluous whitespace found in object header b'64' b'0' [pdf.py:1666]\n",
      "PdfReadWarning: Superfluous whitespace found in object header b'67' b'0' [pdf.py:1666]\n",
      "PdfReadWarning: Superfluous whitespace found in object header b'70' b'0' [pdf.py:1666]\n",
      "PdfReadWarning: Superfluous whitespace found in object header b'73' b'0' [pdf.py:1666]\n",
      "PdfReadWarning: Superfluous whitespace found in object header b'84' b'0' [pdf.py:1666]\n",
      "PdfReadWarning: Superfluous whitespace found in object header b'87' b'0' [pdf.py:1666]\n",
      "PdfReadWarning: Superfluous whitespace found in object header b'90' b'0' [pdf.py:1666]\n",
      "PdfReadWarning: Superfluous whitespace found in object header b'93' b'0' [pdf.py:1666]\n",
      "PdfReadWarning: Superfluous whitespace found in object header b'96' b'0' [pdf.py:1666]\n",
      "PdfReadWarning: Superfluous whitespace found in object header b'107' b'0' [pdf.py:1666]\n",
      "PdfReadWarning: Superfluous whitespace found in object header b'110' b'0' [pdf.py:1666]\n",
      "PdfReadWarning: Superfluous whitespace found in object header b'140' b'0' [pdf.py:1666]\n",
      "PdfReadWarning: Superfluous whitespace found in object header b'143' b'0' [pdf.py:1666]\n",
      "PdfReadWarning: Superfluous whitespace found in object header b'146' b'0' [pdf.py:1666]\n"
     ]
    },
    {
     "name": "stdout",
     "output_type": "stream",
     "text": [
      "Extracted text for: Audit and Governance Committee\n",
      "Folder created: District Advisory Panel - Northwich and\n",
      "Added: Agenda frontsheet.pdf\n",
      "Added: Agenda reports pack.pdf\n",
      "Added: Minutes of the last meeting  PDF 57 KB.pdf\n",
      "Added: Membership and Terms of Reference DOCX 16 KB.docx\n",
      "Extracting text for: District Advisory Panel - Northwich and\n",
      "Extracted text for: District Advisory Panel - Northwich and\n",
      "Folder created: Health and Wellbeing Board64\n",
      "Added: Agenda frontsheet.pdf\n",
      "Added: Additional Document - Focus on our Care Communities Presentation Slides  PDF 2 MB.pdf\n",
      "Added: Minutes  PDF 81 KB.pdf\n",
      "Added: Focus on our Care Communities  PDF 2 MB.pdf\n",
      "Added: Eat Well, Be Active Update  PDF 389 KB.pdf\n",
      "Added: Review of the Better Care Fund  PDF 604 KB.pdf\n",
      "Added: The Community Safety Partnership - An Overview  PDF 450 KB.pdf\n",
      "Added: Seasonal Influenza Update and Winter Campaign  PDF 569 KB.pdf\n",
      "Added: Children's Trust Update  PDF 358 KB.pdf\n",
      "Added: Draft Agenda for the October Health and Wellbeing Board Meeting  PDF 81 KB.pdf\n",
      "Extracting text for: Health and Wellbeing Board64\n",
      "Extracted text for: Health and Wellbeing Board64\n",
      "Folder created: General Licensing Sub-Committee\n",
      "Added: Agenda frontsheet.pdf\n",
      "Added: Agenda reports pack.pdf\n",
      "Added: Appointment of Chairman  PDF 39 KB.pdf\n",
      "Extracting text for: General Licensing Sub-Committee\n",
      "Extracted text for: General Licensing Sub-Committee\n"
     ]
    }
   ],
   "source": [
    "extract_council_text(council_name, council_url)"
   ]
  },
  {
   "cell_type": "code",
   "execution_count": 21,
   "metadata": {},
   "outputs": [],
   "source": [
    "with open('chester.txt', 'r') as f:\n",
    "    output = simplejson.load(f)"
   ]
  },
  {
   "cell_type": "code",
   "execution_count": 38,
   "metadata": {},
   "outputs": [
    {
     "data": {
      "text/plain": [
       "[]"
      ]
     },
     "execution_count": 38,
     "metadata": {},
     "output_type": "execute_result"
    }
   ],
   "source": [
    "output[5]"
   ]
  }
 ],
 "metadata": {
  "kernelspec": {
   "display_name": "Python 3",
   "language": "python",
   "name": "python3"
  },
  "language_info": {
   "codemirror_mode": {
    "name": "ipython",
    "version": 3
   },
   "file_extension": ".py",
   "mimetype": "text/x-python",
   "name": "python",
   "nbconvert_exporter": "python",
   "pygments_lexer": "ipython3",
   "version": "3.6.3"
  }
 },
 "nbformat": 4,
 "nbformat_minor": 2
}
